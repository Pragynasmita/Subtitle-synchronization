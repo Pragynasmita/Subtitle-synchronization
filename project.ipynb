{
 "cells": [
  {
   "cell_type": "code",
   "execution_count": null,
   "id": "2c9d92ef-e605-40fe-8d8f-2d42eaac9456",
   "metadata": {},
   "outputs": [],
   "source": [
    "import whisper\n",
    "\n",
    "# Load Whisper model\n",
    "model = whisper.load_model(\"base\", device=\"cpu\")\n",
    "\n",
    "def convert_to_srt_time(seconds):\n",
    "    hrs, secs = divmod(seconds, 3600)\n",
    "    mins, secs = divmod(secs, 60)\n",
    "    millisecs = int((secs - int(secs)) * 1000)\n",
    "    return f\"{int(hrs):02}:{int(mins):02}:{int(secs):02},{millisecs:03}\"\n",
    "        \n",
    "# Transcribe audio\n",
    "result = model.transcribe(\"audio_file.wav\")\n",
    "with open(\"subtitles.srt\", \"w\") as f:\n",
    "    for i, segment in enumerate(result['segments']):\n",
    "        start = segment['start']\n",
    "        end = segment['end']\n",
    "        text = segment['text']\n",
    "        f.write(f\"{i+1}\\n\")\n",
    "        f.write(f\"{convert_to_srt_time(start)} --> {convert_to_srt_time(end)}\\n\")\n",
    "        f.write(f\"{text.strip()}\\n\\n\")"
   ]
  },
  {
   "cell_type": "code",
   "execution_count": 4,
   "id": "5b5b4995-1cca-4759-bf20-fbb0d144da40",
   "metadata": {},
   "outputs": [
    {
     "name": "stdout",
     "output_type": "stream",
     "text": [
      "Saving subtitles to: C:\\Users\\KIIT\\OneDrive\\Desktop\\MAJOR\\subtitles.srt\n"
     ]
    }
   ],
   "source": [
    "import os\n",
    "print(\"Saving subtitles to:\", os.path.abspath(\"subtitles.srt\"))"
   ]
  },
  {
   "cell_type": "code",
   "execution_count": null,
   "id": "7ce623b5-8ea7-4d9c-85f2-a39122de00f0",
   "metadata": {},
   "outputs": [],
   "source": []
  },
  {
   "cell_type": "code",
   "execution_count": null,
   "id": "60283747-3436-49bd-bcca-d06b17317374",
   "metadata": {},
   "outputs": [],
   "source": []
  }
 ],
 "metadata": {
  "kernelspec": {
   "display_name": "Python 3 (ipykernel)",
   "language": "python",
   "name": "python3"
  },
  "language_info": {
   "codemirror_mode": {
    "name": "ipython",
    "version": 3
   },
   "file_extension": ".py",
   "mimetype": "text/x-python",
   "name": "python",
   "nbconvert_exporter": "python",
   "pygments_lexer": "ipython3",
   "version": "3.10.13"
  }
 },
 "nbformat": 4,
 "nbformat_minor": 5
}
